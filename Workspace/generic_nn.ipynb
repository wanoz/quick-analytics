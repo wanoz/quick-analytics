{
 "cells": [
  {
   "cell_type": "markdown",
   "metadata": {},
   "source": [
    "### Setup environment and dependencies"
   ]
  },
  {
   "cell_type": "code",
   "execution_count": 1,
   "metadata": {},
   "outputs": [],
   "source": [
    "username = 'userid'"
   ]
  },
  {
   "cell_type": "code",
   "execution_count": 2,
   "metadata": {},
   "outputs": [
    {
     "name": "stdout",
     "output_type": "stream",
     "text": [
      "TensorFlow version: 1.8.0\n",
      "Eager execution: False\n"
     ]
    }
   ],
   "source": [
    "import os\n",
    "import time\n",
    "import pickle\n",
    "import numpy as np\n",
    "import pandas as pd\n",
    "import matplotlib.pyplot as plt\n",
    "import seaborn as sns\n",
    "import sklearn\n",
    "import tensorflow as tf\n",
    "import tensorflow.contrib.eager as tfe\n",
    "from ML_tools import preprocessing, model, evaluation\n",
    "\n",
    "# tf.enable_eager_execution()\n",
    "print(\"TensorFlow version: {}\".format(tf.VERSION))\n",
    "print(\"Eager execution: {}\".format(tf.executing_eagerly()))"
   ]
  },
  {
   "cell_type": "markdown",
   "metadata": {},
   "source": [
    "#### Load data\n",
    "Ensure the csv or xlsx file is placed in the \"Data\" folder"
   ]
  },
  {
   "cell_type": "code",
   "execution_count": 3,
   "metadata": {},
   "outputs": [
    {
     "name": "stdout",
     "output_type": "stream",
     "text": [
      "Status: Data imported\n",
      "\n",
      "Data preview:\n",
      "   120    4  setosa  versicolor  virginica\n",
      "0  6.4  2.8     5.6         2.2          2\n",
      "1  5.0  2.3     3.3         1.0          1\n",
      "2  4.9  2.5     4.5         1.7          2\n",
      "3  4.9  3.1     1.5         0.1          0\n",
      "4  5.7  3.8     1.7         0.3          0\n",
      "\n",
      "Content summary:\n",
      "              120           4      setosa  versicolor   virginica\n",
      "count  120.000000  120.000000  120.000000  120.000000  120.000000\n",
      "mean     5.845000    3.065000    3.739167    1.196667    1.000000\n",
      "std      0.868578    0.427156    1.822100    0.782039    0.840168\n",
      "min      4.400000    2.000000    1.000000    0.100000    0.000000\n",
      "25%      5.075000    2.800000    1.500000    0.300000    0.000000\n",
      "50%      5.800000    3.000000    4.400000    1.300000    1.000000\n",
      "75%      6.425000    3.300000    5.100000    1.800000    2.000000\n",
      "max      7.900000    4.400000    6.900000    2.500000    2.000000\n"
     ]
    }
   ],
   "source": [
    "df = preprocessing.create_dataframe('iris_training')"
   ]
  },
  {
   "cell_type": "markdown",
   "metadata": {},
   "source": [
    "### Preprocess data"
   ]
  },
  {
   "cell_type": "code",
   "execution_count": null,
   "metadata": {},
   "outputs": [],
   "source": [
    "X = df[['120', '4', 'setosa', 'versicolor', 'virginica']]\n",
    "y = df[...]"
   ]
  },
  {
   "cell_type": "markdown",
   "metadata": {},
   "source": [
    "### Prepare train, validation, test datasets"
   ]
  },
  {
   "cell_type": "code",
   "execution_count": null,
   "metadata": {},
   "outputs": [],
   "source": [
    "X_train, y_train, X_dev, y_dev, X_test, y_test, input_features = preprocessing.training_split(\n",
    "    X, \n",
    "    y,\n",
    "    train_partition=0.6,\n",
    "    dev_partition=0.2,\n",
    "    test_partition=0.2,\n",
    "    random_state=None\n",
    ")"
   ]
  },
  {
   "cell_type": "markdown",
   "metadata": {},
   "source": [
    "### Apply model"
   ]
  },
  {
   "cell_type": "code",
   "execution_count": null,
   "metadata": {},
   "outputs": [],
   "source": [
    "# Build the neural network model\n",
    "tf_model, set_tf_info, tf_model_info = model.set_nn(\n",
    "    input_features=input_features,\n",
    "    hidden_layers=2,\n",
    "    hidden_units=10,\n",
    "    hidden_activation='relu',\n",
    "    output_units=3,\n",
    "    output_activation='softmax'\n",
    ")"
   ]
  },
  {
   "cell_type": "markdown",
   "metadata": {},
   "source": [
    "#### Hyperparameter tuning for model training \n",
    "Loss type choices:\n",
    "- softmax_crossentropy (target label is one hot encoded)\n",
    "- sparse_softmax_crossentropy (target label is categorical, e.g. 0, 1, 2, 3 ... )\n",
    "- log_loss (target label is 0 or 1)"
   ]
  },
  {
   "cell_type": "code",
   "execution_count": null,
   "metadata": {},
   "outputs": [],
   "source": [
    "# Train the neural network model\n",
    "trained_tf_model, trained_tf_info = model.train_nn_keras(\n",
    "    X_train,\n",
    "    y_train,\n",
    "    X_dev,\n",
    "    y_dev,\n",
    "    tf_model,\n",
    "    tf_model_info,\n",
    "    batch_size=32,\n",
    "    learning_rate = 0.01,\n",
    "    num_epochs=200,\n",
    "    loss_type = 'sparse_categorical_crossentropy',\n",
    "    optimizer_type='adam',\n",
    "    metrics=['accuracy']\n",
    ")"
   ]
  },
  {
   "cell_type": "markdown",
   "metadata": {},
   "source": [
    "### Review training result"
   ]
  },
  {
   "cell_type": "code",
   "execution_count": null,
   "metadata": {
    "scrolled": false
   },
   "outputs": [],
   "source": [
    "# Show training history (loss and accuracy curves)\n",
    "evaluation.plot_history_keras(trained_tf_info['train_history'])"
   ]
  },
  {
   "cell_type": "markdown",
   "metadata": {},
   "source": [
    "### Evaluate model performance"
   ]
  },
  {
   "cell_type": "code",
   "execution_count": null,
   "metadata": {},
   "outputs": [],
   "source": [
    "evaluation_info = evaluation.evaluate_model(X_test, y_test, y, trained_tf_model)"
   ]
  },
  {
   "cell_type": "code",
   "execution_count": null,
   "metadata": {},
   "outputs": [],
   "source": []
  }
 ],
 "metadata": {
  "kernelspec": {
   "display_name": "Python 3",
   "language": "python",
   "name": "python3"
  },
  "language_info": {
   "codemirror_mode": {
    "name": "ipython",
    "version": 3
   },
   "file_extension": ".py",
   "mimetype": "text/x-python",
   "name": "python",
   "nbconvert_exporter": "python",
   "pygments_lexer": "ipython3",
   "version": "3.6.4"
  }
 },
 "nbformat": 4,
 "nbformat_minor": 2
}
